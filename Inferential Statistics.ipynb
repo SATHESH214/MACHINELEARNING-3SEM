{
 "cells": [
  {
   "cell_type": "markdown",
   "id": "a024bf53-19c9-4643-b85f-3d5509a37bd4",
   "metadata": {},
   "source": [
    "# Inference"
   ]
  },
  {
   "cell_type": "markdown",
   "id": "87d5f56c-a92a-4807-93db-d8603dfad854",
   "metadata": {},
   "source": [
    "* Technique about inferring or knowing something about a population"
   ]
  },
  {
   "cell_type": "markdown",
   "id": "293085d4-1e42-4561-8e44-1594aadda5f5",
   "metadata": {},
   "source": [
    "# Confidence Interval using Z- Distribution"
   ]
  },
  {
   "cell_type": "markdown",
   "id": "69070fca-7802-437c-9d0b-3c80142b426d",
   "metadata": {},
   "source": [
    "We need to check the height of students between the age group of 18 to 21.We have selected a sample of students randomly. their averagwe height is 158 cm.\n",
    "find the average height of all the students with in that age group\n",
    "E=Z*(s/sqrt of n)"
   ]
  },
  {
   "cell_type": "code",
   "execution_count": 1,
   "id": "d0c05a70-70d7-4121-adf1-71ae5f21429c",
   "metadata": {},
   "outputs": [],
   "source": [
    "import numpy as np"
   ]
  },
  {
   "cell_type": "markdown",
   "id": "2ca68b2e-6a61-4dc2-bcc9-c6645c001f8f",
   "metadata": {},
   "source": [
    "# Generate Sample data: height of 30 students(in inches)"
   ]
  },
  {
   "cell_type": "code",
   "execution_count": 2,
   "id": "7b24e424-2411-4d94-b398-efaa9018b385",
   "metadata": {},
   "outputs": [],
   "source": [
    "np.random.seed(42)\n",
    "heights = np.random.normal(loc=65,scale=3,size=30)"
   ]
  },
  {
   "cell_type": "code",
   "execution_count": 3,
   "id": "63ebe10c-fc2c-4324-b6e6-064136884df5",
   "metadata": {},
   "outputs": [
    {
     "data": {
      "text/plain": [
       "array([66.49014246, 64.5852071 , 66.94306561, 69.56908957, 64.29753988,\n",
       "       64.29758913, 69.73763845, 67.30230419, 63.59157684, 66.62768013,\n",
       "       63.60974692, 63.60281074, 65.72588681, 59.26015927, 59.8252465 ,\n",
       "       63.31313741, 61.96150664, 65.942742  , 62.27592777, 60.7630889 ,\n",
       "       69.39694631, 64.3226711 , 65.20258461, 60.72575544, 63.36685183,\n",
       "       65.33276777, 61.54701927, 66.12709406, 63.19808393, 64.12491875])"
      ]
     },
     "execution_count": 3,
     "metadata": {},
     "output_type": "execute_result"
    }
   ],
   "source": [
    "heights"
   ]
  },
  {
   "cell_type": "markdown",
   "id": "789299b1-b445-42f9-bc22-6ecbff273b55",
   "metadata": {},
   "source": [
    "# Point Estimation: Calculate the sample Mean"
   ]
  },
  {
   "cell_type": "code",
   "execution_count": 4,
   "id": "03496541-24a9-4809-b0d0-cd0decd906f3",
   "metadata": {},
   "outputs": [
    {
     "name": "stdout",
     "output_type": "stream",
     "text": [
      "Sample Mean (point Estimate): 64.43555931244688\n"
     ]
    }
   ],
   "source": [
    "sample_mean=np.mean(heights)\n",
    "print(\"Sample Mean (point Estimate):\",sample_mean)"
   ]
  },
  {
   "cell_type": "markdown",
   "id": "e271f058-37b6-409e-b170-38f28789075e",
   "metadata": {},
   "source": [
    "Library"
   ]
  },
  {
   "cell_type": "code",
   "execution_count": 5,
   "id": "dc16f6d4-9c98-4f2a-b2c5-bd3aafe329f3",
   "metadata": {},
   "outputs": [],
   "source": [
    "import scipy.stats as stats"
   ]
  },
  {
   "cell_type": "markdown",
   "id": "bb6f1160-4b8f-4ea5-8cfe-1b682664a5ee",
   "metadata": {},
   "source": [
    "# Calculate the sample mean and standard deviation"
   ]
  },
  {
   "cell_type": "code",
   "execution_count": 6,
   "id": "8a7462c8-8661-4fc7-a9f1-7171b6881d07",
   "metadata": {},
   "outputs": [],
   "source": [
    "sample_mean = np.mean(heights)\n",
    "sample_std = np.std(heights,ddof=1)"
   ]
  },
  {
   "cell_type": "markdown",
   "id": "ced44ace-731b-4a96-9eb0-5f9e831bd88a",
   "metadata": {},
   "source": [
    "# Set the desired confidence Level"
   ]
  },
  {
   "cell_type": "code",
   "execution_count": 7,
   "id": "ad12e499-1176-447c-b8c1-cf4f55266d50",
   "metadata": {},
   "outputs": [],
   "source": [
    "confidence_level = 0.95"
   ]
  },
  {
   "cell_type": "markdown",
   "id": "a74119b1-bc61-4b80-b65c-a08149d720e7",
   "metadata": {},
   "source": [
    "# Calculate the margin of error"
   ]
  },
  {
   "cell_type": "code",
   "execution_count": 8,
   "id": "da13db26-baf7-4ca5-b3f5-99b6fd5b4dab",
   "metadata": {},
   "outputs": [],
   "source": [
    "margin_of_error = stats.t.ppf((1 + confidence_level) / 2, len(heights)-1) * (sample_std / np.sqrt(len(heights)))"
   ]
  },
  {
   "cell_type": "code",
   "execution_count": 9,
   "id": "3cfd14ed-de5b-4b81-b09d-1627ddfb6d66",
   "metadata": {},
   "outputs": [
    {
     "data": {
      "text/plain": [
       "np.float64(1.008203769341381)"
      ]
     },
     "execution_count": 9,
     "metadata": {},
     "output_type": "execute_result"
    }
   ],
   "source": [
    "margin_of_error"
   ]
  },
  {
   "cell_type": "markdown",
   "id": "68885630-48c8-427b-8095-4954de368027",
   "metadata": {},
   "source": [
    "# Calculate the Comfidence Interval"
   ]
  },
  {
   "cell_type": "code",
   "execution_count": 10,
   "id": "4804aecc-d353-4f43-bf4e-2d560cd196f6",
   "metadata": {},
   "outputs": [],
   "source": [
    "Lower_bound = sample_mean - margin_of_error\n",
    "Upper_bound = sample_mean + margin_of_error"
   ]
  },
  {
   "cell_type": "code",
   "execution_count": 11,
   "id": "7e303778-ac0c-48d7-afa3-e13d535cee81",
   "metadata": {},
   "outputs": [
    {
     "name": "stdout",
     "output_type": "stream",
     "text": [
      "Confidence Interval (95.0: [63.427355543105506,65.44376308178826]\n"
     ]
    }
   ],
   "source": [
    "print(f\"Confidence Interval ({confidence_level*100}: [{Lower_bound},{Upper_bound}]\")"
   ]
  },
  {
   "cell_type": "markdown",
   "id": "8aa8a091-6a63-4924-842f-dd9a1becf63a",
   "metadata": {},
   "source": [
    "# Hypothesis T Test"
   ]
  },
  {
   "cell_type": "markdown",
   "id": "4692df4b-a3ee-44f1-8e25-42dbf7669b16",
   "metadata": {},
   "source": [
    "# Generate sample data for two groups"
   ]
  },
  {
   "cell_type": "code",
   "execution_count": 12,
   "id": "3d48ddf5-504b-4ed9-9a78-976b6cd6cde7",
   "metadata": {},
   "outputs": [],
   "source": [
    "np.random.seed(42)\n",
    "group1_scores = np.random.normal(loc=70,scale=5,size=30)\n",
    "group2_scores = np.random.normal(loc=75,scale=5,size=30)"
   ]
  },
  {
   "cell_type": "markdown",
   "id": "0ccbeea5-820a-497a-981a-fc3ed6c5ce61",
   "metadata": {},
   "source": [
    "# Perform independent T-test"
   ]
  },
  {
   "cell_type": "code",
   "execution_count": 13,
   "id": "697d98ec-1323-4448-88bb-c6564a7ed3d3",
   "metadata": {},
   "outputs": [],
   "source": [
    "t_statistic,p_value = stats.ttest_ind(group1_scores,group2_scores)"
   ]
  },
  {
   "cell_type": "markdown",
   "id": "e075c3bd-e4bd-401c-8d09-e6e94e4da686",
   "metadata": {},
   "source": [
    "# Set the significance level"
   ]
  },
  {
   "cell_type": "code",
   "execution_count": 14,
   "id": "7f3259dd-08f0-4219-be06-0651d8f12196",
   "metadata": {},
   "outputs": [],
   "source": [
    "alpha = 0.5"
   ]
  },
  {
   "cell_type": "code",
   "execution_count": 15,
   "id": "e623bfa8-f126-4744-a2b1-859b77599072",
   "metadata": {},
   "outputs": [
    {
     "name": "stdout",
     "output_type": "stream",
     "text": [
      "T-test Results:\n",
      "T-statistic: -4.512913234547576\n",
      "P-value: 3.176506547469916e-05\n"
     ]
    }
   ],
   "source": [
    "print(\"T-test Results:\")\n",
    "print(\"T-statistic:\",t_statistic)\n",
    "print(\"P-value:\",p_value)"
   ]
  },
  {
   "cell_type": "markdown",
   "id": "492f8832-48fd-413c-8914-9ee83cd6b0e5",
   "metadata": {},
   "source": [
    "# Check if the p-value is less than alpha to determine significance"
   ]
  },
  {
   "cell_type": "code",
   "execution_count": 16,
   "id": "288d549c-d3e0-449b-9ea1-20a35dc855d7",
   "metadata": {},
   "outputs": [
    {
     "name": "stdout",
     "output_type": "stream",
     "text": [
      "Reject the null hypothesis.There is a significant difference between the means of the two groups.\n"
     ]
    }
   ],
   "source": [
    "if p_value < alpha:\n",
    "    print(\"Reject the null hypothesis.There is a significant difference between the means of the two groups.\")\n",
    "\n",
    "else:\n",
    "    print(\"Fail to reject the null hyphothesis.There is no significant difference between the means of the two groups.\")"
   ]
  },
  {
   "cell_type": "code",
   "execution_count": null,
   "id": "becb4ae2-bc04-4c34-b728-9781c7330b4b",
   "metadata": {},
   "outputs": [],
   "source": []
  }
 ],
 "metadata": {
  "kernelspec": {
   "display_name": "Python 3 (ipykernel)",
   "language": "python",
   "name": "python3"
  },
  "language_info": {
   "codemirror_mode": {
    "name": "ipython",
    "version": 3
   },
   "file_extension": ".py",
   "mimetype": "text/x-python",
   "name": "python",
   "nbconvert_exporter": "python",
   "pygments_lexer": "ipython3",
   "version": "3.12.4"
  }
 },
 "nbformat": 4,
 "nbformat_minor": 5
}
