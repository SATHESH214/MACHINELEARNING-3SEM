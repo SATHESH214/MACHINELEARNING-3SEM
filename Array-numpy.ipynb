{
 "cells": [
  {
   "cell_type": "code",
   "execution_count": 1,
   "id": "3f93f9cc",
   "metadata": {},
   "outputs": [],
   "source": [
    "import numpy as np"
   ]
  },
  {
   "cell_type": "code",
   "execution_count": 2,
   "id": "5264c741",
   "metadata": {
    "scrolled": false
   },
   "outputs": [],
   "source": [
    "ar1=np.array(6)"
   ]
  },
  {
   "cell_type": "code",
   "execution_count": 3,
   "id": "920d618c",
   "metadata": {},
   "outputs": [
    {
     "data": {
      "text/plain": [
       "array(6)"
      ]
     },
     "execution_count": 3,
     "metadata": {},
     "output_type": "execute_result"
    }
   ],
   "source": [
    "ar1"
   ]
  },
  {
   "cell_type": "code",
   "execution_count": 4,
   "id": "73b83d5b",
   "metadata": {
    "scrolled": true
   },
   "outputs": [
    {
     "data": {
      "text/plain": [
       "numpy.ndarray"
      ]
     },
     "execution_count": 4,
     "metadata": {},
     "output_type": "execute_result"
    }
   ],
   "source": [
    "type(ar1)"
   ]
  },
  {
   "cell_type": "code",
   "execution_count": 5,
   "id": "ad0dadc7",
   "metadata": {},
   "outputs": [],
   "source": [
    "ar2=np.array([2,3,4,5])"
   ]
  },
  {
   "cell_type": "code",
   "execution_count": 6,
   "id": "f2dcf928",
   "metadata": {},
   "outputs": [
    {
     "data": {
      "text/plain": [
       "array([2, 3, 4, 5])"
      ]
     },
     "execution_count": 6,
     "metadata": {},
     "output_type": "execute_result"
    }
   ],
   "source": [
    "ar2"
   ]
  },
  {
   "cell_type": "code",
   "execution_count": 7,
   "id": "eca30144",
   "metadata": {},
   "outputs": [],
   "source": [
    "ar3=np.array([[2,3,4,5],[1,0,1,0]])"
   ]
  },
  {
   "cell_type": "code",
   "execution_count": 8,
   "id": "34430b90",
   "metadata": {},
   "outputs": [
    {
     "data": {
      "text/plain": [
       "array([[2, 3, 4, 5],\n",
       "       [1, 0, 1, 0]])"
      ]
     },
     "execution_count": 8,
     "metadata": {},
     "output_type": "execute_result"
    }
   ],
   "source": [
    "ar3"
   ]
  },
  {
   "cell_type": "markdown",
   "id": "03728499",
   "metadata": {},
   "source": [
    "# Array types\n",
    "\n",
    "1. Zero array\n",
    "2. Ones array\n",
    "3. empty array\n",
    "4. array for range"
   ]
  },
  {
   "cell_type": "markdown",
   "id": "ce45978d",
   "metadata": {},
   "source": [
    "# 1. Zero Array"
   ]
  },
  {
   "cell_type": "code",
   "execution_count": 9,
   "id": "71cdf54b",
   "metadata": {},
   "outputs": [],
   "source": [
    "zero_array=np.zeros(2)"
   ]
  },
  {
   "cell_type": "code",
   "execution_count": 10,
   "id": "2281cfa3",
   "metadata": {
    "scrolled": true
   },
   "outputs": [
    {
     "data": {
      "text/plain": [
       "array([0., 0.])"
      ]
     },
     "execution_count": 10,
     "metadata": {},
     "output_type": "execute_result"
    }
   ],
   "source": [
    "zero_array"
   ]
  },
  {
   "cell_type": "code",
   "execution_count": 11,
   "id": "0a3a12e0",
   "metadata": {},
   "outputs": [],
   "source": [
    "zero_array=np.zeros((2,2))"
   ]
  },
  {
   "cell_type": "code",
   "execution_count": 12,
   "id": "b14718b6",
   "metadata": {},
   "outputs": [
    {
     "data": {
      "text/plain": [
       "array([[0., 0.],\n",
       "       [0., 0.]])"
      ]
     },
     "execution_count": 12,
     "metadata": {},
     "output_type": "execute_result"
    }
   ],
   "source": [
    "zero_array"
   ]
  },
  {
   "cell_type": "markdown",
   "id": "ec47fe9f",
   "metadata": {},
   "source": [
    "# 2.Ones Array"
   ]
  },
  {
   "cell_type": "code",
   "execution_count": 13,
   "id": "bf5e2645",
   "metadata": {},
   "outputs": [],
   "source": [
    "ones_array=np.ones((2,2))"
   ]
  },
  {
   "cell_type": "code",
   "execution_count": 14,
   "id": "64b14869",
   "metadata": {},
   "outputs": [
    {
     "data": {
      "text/plain": [
       "array([[1., 1.],\n",
       "       [1., 1.]])"
      ]
     },
     "execution_count": 14,
     "metadata": {},
     "output_type": "execute_result"
    }
   ],
   "source": [
    "ones_array"
   ]
  },
  {
   "cell_type": "markdown",
   "id": "7b6ef9e9",
   "metadata": {},
   "source": [
    "# 3.Arange"
   ]
  },
  {
   "cell_type": "code",
   "execution_count": 15,
   "id": "5e80aee8",
   "metadata": {},
   "outputs": [],
   "source": [
    "ar4=np.arange(2,15,2)"
   ]
  },
  {
   "cell_type": "code",
   "execution_count": 16,
   "id": "6f2ccd77",
   "metadata": {},
   "outputs": [
    {
     "data": {
      "text/plain": [
       "array([ 2,  4,  6,  8, 10, 12, 14])"
      ]
     },
     "execution_count": 16,
     "metadata": {},
     "output_type": "execute_result"
    }
   ],
   "source": [
    "ar4"
   ]
  },
  {
   "cell_type": "markdown",
   "id": "1434f8e4",
   "metadata": {},
   "source": [
    "# Transpose"
   ]
  },
  {
   "cell_type": "code",
   "execution_count": 17,
   "id": "964878e5",
   "metadata": {},
   "outputs": [],
   "source": [
    "ar5=np.transpose(ar3)"
   ]
  },
  {
   "cell_type": "code",
   "execution_count": 18,
   "id": "cfe34b0f",
   "metadata": {},
   "outputs": [
    {
     "data": {
      "text/plain": [
       "array([[2, 1],\n",
       "       [3, 0],\n",
       "       [4, 1],\n",
       "       [5, 0]])"
      ]
     },
     "execution_count": 18,
     "metadata": {},
     "output_type": "execute_result"
    }
   ],
   "source": [
    "ar5"
   ]
  },
  {
   "cell_type": "markdown",
   "id": "c68fd5dd",
   "metadata": {},
   "source": [
    "Single Row Transpose"
   ]
  },
  {
   "cell_type": "code",
   "execution_count": 19,
   "id": "84e45ed2",
   "metadata": {},
   "outputs": [],
   "source": [
    "ar6=np.ravel(ar5)"
   ]
  },
  {
   "cell_type": "code",
   "execution_count": 20,
   "id": "803267f1",
   "metadata": {},
   "outputs": [
    {
     "data": {
      "text/plain": [
       "array([2, 1, 3, 0, 4, 1, 5, 0])"
      ]
     },
     "execution_count": 20,
     "metadata": {},
     "output_type": "execute_result"
    }
   ],
   "source": [
    "ar6"
   ]
  },
  {
   "cell_type": "markdown",
   "id": "51be9d67",
   "metadata": {},
   "source": [
    "# Concatenation"
   ]
  },
  {
   "cell_type": "code",
   "execution_count": 21,
   "id": "a40e8a48",
   "metadata": {},
   "outputs": [],
   "source": [
    "a1=np.array([1,2])\n",
    "a2=np.array([4,5])"
   ]
  },
  {
   "cell_type": "code",
   "execution_count": 22,
   "id": "3b577d89",
   "metadata": {},
   "outputs": [
    {
     "data": {
      "text/plain": [
       "array([1, 2])"
      ]
     },
     "execution_count": 22,
     "metadata": {},
     "output_type": "execute_result"
    }
   ],
   "source": [
    "a1"
   ]
  },
  {
   "cell_type": "code",
   "execution_count": 23,
   "id": "011f17c1",
   "metadata": {},
   "outputs": [
    {
     "data": {
      "text/plain": [
       "array([4, 5])"
      ]
     },
     "execution_count": 23,
     "metadata": {},
     "output_type": "execute_result"
    }
   ],
   "source": [
    "a2"
   ]
  },
  {
   "cell_type": "code",
   "execution_count": 24,
   "id": "8e8d9247",
   "metadata": {},
   "outputs": [],
   "source": [
    "concat=np.concatenate((a1,a2))"
   ]
  },
  {
   "cell_type": "code",
   "execution_count": 25,
   "id": "208cf69d",
   "metadata": {},
   "outputs": [
    {
     "data": {
      "text/plain": [
       "array([1, 2, 4, 5])"
      ]
     },
     "execution_count": 25,
     "metadata": {},
     "output_type": "execute_result"
    }
   ],
   "source": [
    "concat"
   ]
  },
  {
   "cell_type": "markdown",
   "id": "ee9b5402",
   "metadata": {},
   "source": [
    "horizantal concate"
   ]
  },
  {
   "cell_type": "code",
   "execution_count": 26,
   "id": "65b498e8",
   "metadata": {},
   "outputs": [],
   "source": [
    "hori=np.hstack((a1,a2))"
   ]
  },
  {
   "cell_type": "code",
   "execution_count": 27,
   "id": "2109ac7e",
   "metadata": {},
   "outputs": [
    {
     "data": {
      "text/plain": [
       "array([1, 2, 4, 5])"
      ]
     },
     "execution_count": 27,
     "metadata": {},
     "output_type": "execute_result"
    }
   ],
   "source": [
    "hori"
   ]
  },
  {
   "cell_type": "markdown",
   "id": "9c181c04",
   "metadata": {},
   "source": [
    " vertical concate"
   ]
  },
  {
   "cell_type": "code",
   "execution_count": 28,
   "id": "87fbff30",
   "metadata": {},
   "outputs": [],
   "source": [
    "vert=np.vstack((a1,a2))"
   ]
  },
  {
   "cell_type": "code",
   "execution_count": 29,
   "id": "0490ed6c",
   "metadata": {},
   "outputs": [
    {
     "data": {
      "text/plain": [
       "array([[1, 2],\n",
       "       [4, 5]])"
      ]
     },
     "execution_count": 29,
     "metadata": {},
     "output_type": "execute_result"
    }
   ],
   "source": [
    "vert"
   ]
  },
  {
   "cell_type": "markdown",
   "id": "e36a21b9",
   "metadata": {},
   "source": [
    "# Determinants"
   ]
  },
  {
   "cell_type": "code",
   "execution_count": 30,
   "id": "72266d0c",
   "metadata": {},
   "outputs": [],
   "source": [
    "mat1=np.array([[1,2,3],[4,5,6],[2,8,9]])"
   ]
  },
  {
   "cell_type": "code",
   "execution_count": 31,
   "id": "2782e45c",
   "metadata": {},
   "outputs": [
    {
     "data": {
      "text/plain": [
       "array([[1, 2, 3],\n",
       "       [4, 5, 6],\n",
       "       [2, 8, 9]])"
      ]
     },
     "execution_count": 31,
     "metadata": {},
     "output_type": "execute_result"
    }
   ],
   "source": [
    "mat1"
   ]
  },
  {
   "cell_type": "code",
   "execution_count": 32,
   "id": "4e0da4b5",
   "metadata": {},
   "outputs": [],
   "source": [
    "det_cf_mat1=np.linalg.det(mat1)"
   ]
  },
  {
   "cell_type": "code",
   "execution_count": 33,
   "id": "dd4df767",
   "metadata": {},
   "outputs": [
    {
     "data": {
      "text/plain": [
       "15.000000000000007"
      ]
     },
     "execution_count": 33,
     "metadata": {},
     "output_type": "execute_result"
    }
   ],
   "source": [
    "det_cf_mat1"
   ]
  },
  {
   "cell_type": "markdown",
   "id": "7ac63949",
   "metadata": {},
   "source": [
    "# Inverse"
   ]
  },
  {
   "cell_type": "code",
   "execution_count": 34,
   "id": "9ac16c27",
   "metadata": {},
   "outputs": [],
   "source": [
    "inverse=np.linalg.inv(mat1)"
   ]
  },
  {
   "cell_type": "code",
   "execution_count": 35,
   "id": "cf96304b",
   "metadata": {},
   "outputs": [
    {
     "data": {
      "text/plain": [
       "array([[-0.2       ,  0.4       , -0.2       ],\n",
       "       [-1.6       ,  0.2       ,  0.4       ],\n",
       "       [ 1.46666667, -0.26666667, -0.2       ]])"
      ]
     },
     "execution_count": 35,
     "metadata": {},
     "output_type": "execute_result"
    }
   ],
   "source": [
    "inverse"
   ]
  },
  {
   "cell_type": "markdown",
   "id": "f2b18385",
   "metadata": {},
   "source": [
    "# Dense"
   ]
  },
  {
   "cell_type": "code",
   "execution_count": 36,
   "id": "9ecd638b",
   "metadata": {},
   "outputs": [],
   "source": [
    "dense=np.array([[1,0,3,0],[0,0,0,6],[0,5,6,7],[0,0,1,1]])"
   ]
  },
  {
   "cell_type": "code",
   "execution_count": 37,
   "id": "9238633f",
   "metadata": {},
   "outputs": [
    {
     "data": {
      "text/plain": [
       "array([[1, 0, 3, 0],\n",
       "       [0, 0, 0, 6],\n",
       "       [0, 5, 6, 7],\n",
       "       [0, 0, 1, 1]])"
      ]
     },
     "execution_count": 37,
     "metadata": {},
     "output_type": "execute_result"
    }
   ],
   "source": [
    "dense"
   ]
  },
  {
   "cell_type": "markdown",
   "id": "2ca5c959",
   "metadata": {},
   "source": [
    "# Sparse"
   ]
  },
  {
   "cell_type": "code",
   "execution_count": 38,
   "id": "1d789bf5",
   "metadata": {},
   "outputs": [],
   "source": [
    "from scipy.sparse import csr_matrix"
   ]
  },
  {
   "cell_type": "code",
   "execution_count": 39,
   "id": "af425b8a",
   "metadata": {
    "scrolled": true
   },
   "outputs": [],
   "source": [
    "sparse=csr_matrix(dense)"
   ]
  },
  {
   "cell_type": "code",
   "execution_count": 40,
   "id": "65840a92",
   "metadata": {},
   "outputs": [
    {
     "data": {
      "text/plain": [
       "<4x4 sparse matrix of type '<class 'numpy.intc'>'\n",
       "\twith 8 stored elements in Compressed Sparse Row format>"
      ]
     },
     "execution_count": 40,
     "metadata": {},
     "output_type": "execute_result"
    }
   ],
   "source": [
    "sparse"
   ]
  },
  {
   "cell_type": "code",
   "execution_count": 41,
   "id": "0a17510b",
   "metadata": {},
   "outputs": [
    {
     "name": "stdout",
     "output_type": "stream",
     "text": [
      "  (0, 0)\t1\n",
      "  (0, 2)\t3\n",
      "  (1, 3)\t6\n",
      "  (2, 1)\t5\n",
      "  (2, 2)\t6\n",
      "  (2, 3)\t7\n",
      "  (3, 2)\t1\n",
      "  (3, 3)\t1\n"
     ]
    }
   ],
   "source": [
    "print(sparse)"
   ]
  },
  {
   "cell_type": "code",
   "execution_count": 48,
   "id": "a59cdacd",
   "metadata": {},
   "outputs": [],
   "source": [
    "ar=np.array([[1,2],[3,0]])"
   ]
  },
  {
   "cell_type": "code",
   "execution_count": 49,
   "id": "cb377f93",
   "metadata": {},
   "outputs": [],
   "source": [
    "sparse=csr_matrix(ar)"
   ]
  },
  {
   "cell_type": "code",
   "execution_count": 50,
   "id": "df670cea",
   "metadata": {},
   "outputs": [
    {
     "data": {
      "text/plain": [
       "<2x2 sparse matrix of type '<class 'numpy.intc'>'\n",
       "\twith 3 stored elements in Compressed Sparse Row format>"
      ]
     },
     "execution_count": 50,
     "metadata": {},
     "output_type": "execute_result"
    }
   ],
   "source": [
    "sparse"
   ]
  },
  {
   "cell_type": "code",
   "execution_count": null,
   "id": "a1fab525",
   "metadata": {},
   "outputs": [],
   "source": []
  }
 ],
 "metadata": {
  "kernelspec": {
   "display_name": "Python 3 (ipykernel)",
   "language": "python",
   "name": "python3"
  },
  "language_info": {
   "codemirror_mode": {
    "name": "ipython",
    "version": 3
   },
   "file_extension": ".py",
   "mimetype": "text/x-python",
   "name": "python",
   "nbconvert_exporter": "python",
   "pygments_lexer": "ipython3",
   "version": "3.9.7"
  }
 },
 "nbformat": 4,
 "nbformat_minor": 5
}
